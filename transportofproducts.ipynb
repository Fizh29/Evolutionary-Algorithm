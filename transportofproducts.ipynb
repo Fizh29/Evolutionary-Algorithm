{
 "cells": [
  {
   "cell_type": "code",
   "execution_count": 10,
   "metadata": {},
   "outputs": [],
   "source": [
    "class Product():\n",
    "  def __init__(self, name, space, price):\n",
    "    self.name = name\n",
    "    self.space = space\n",
    "    self.price = price"
   ]
  },
  {
   "cell_type": "code",
   "execution_count": 11,
   "metadata": {},
   "outputs": [],
   "source": [
    "products_list = []\n",
    "products_list.append(Product('Refrigerator A', 0.751, 999.90))\n",
    "products_list.append(Product('Cell phone', 0.00000899, 2199.12))\n",
    "products_list.append(Product('TV 55', 0.400, 4346.99))\n",
    "products_list.append(Product(\"TV 50' \", 0.290, 3999.90))\n",
    "products_list.append(Product(\"TV 42' \", 0.200, 2999.00))\n",
    "products_list.append(Product(\"Notebook A\", 0.00350, 2499.90))\n",
    "products_list.append(Product(\"Ventilator\", 0.496, 199.90))\n",
    "products_list.append(Product(\"Microwave A\", 0.0424, 308.66))\n",
    "products_list.append(Product(\"Microwave B\", 0.0544, 429.90))\n",
    "products_list.append(Product(\"Microwave C\", 0.0319, 299.29))\n",
    "products_list.append(Product(\"Refrigerator B\", 0.635, 849.00))\n",
    "products_list.append(Product(\"Refrigerator C\", 0.870, 1199.89))\n",
    "products_list.append(Product(\"Notebook B\", 0.498, 1999.90))\n",
    "products_list.append(Product(\"Notebook C\", 0.527, 3999.00)) "
   ]
  },
  {
   "cell_type": "code",
   "execution_count": 12,
   "metadata": {},
   "outputs": [
    {
     "name": "stdout",
     "output_type": "stream",
     "text": [
      "Refrigerator A  -  999.9  -  0.751\n",
      "Cell phone  -  2199.12  -  8.99e-06\n",
      "TV 55  -  4346.99  -  0.4\n",
      "TV 50'   -  3999.9  -  0.29\n",
      "TV 42'   -  2999.0  -  0.2\n",
      "Notebook A  -  2499.9  -  0.0035\n",
      "Ventilator  -  199.9  -  0.496\n",
      "Microwave A  -  308.66  -  0.0424\n",
      "Microwave B  -  429.9  -  0.0544\n",
      "Microwave C  -  299.29  -  0.0319\n",
      "Refrigerator B  -  849.0  -  0.635\n",
      "Refrigerator C  -  1199.89  -  0.87\n",
      "Notebook B  -  1999.9  -  0.498\n",
      "Notebook C  -  3999.0  -  0.527\n"
     ]
    }
   ],
   "source": [
    "for product in products_list:\n",
    "  print(product.name, ' - ', product.price, ' - ', product.space)"
   ]
  },
  {
   "cell_type": "code",
   "execution_count": 13,
   "metadata": {},
   "outputs": [],
   "source": [
    "from random import random"
   ]
  },
  {
   "cell_type": "code",
   "execution_count": 14,
   "metadata": {},
   "outputs": [],
   "source": [
    "class Individual():\n",
    "  def __init__(self, spaces, prices, space_limit, generation=0):\n",
    "    self.spaces = spaces\n",
    "    self.prices = prices\n",
    "    self.space_limit = space_limit\n",
    "    self.score_evaluation = 0\n",
    "    self.used_space = 0\n",
    "    self.generation = generation\n",
    "    self.chromosome = []\n",
    "\n",
    "    for i in range(len(spaces)):\n",
    "      if random() < 0.5:\n",
    "        self.chromosome.append('0')\n",
    "      else:\n",
    "        self.chromosome.append('1')\n"
   ]
  },
  {
   "cell_type": "code",
   "execution_count": 15,
   "metadata": {},
   "outputs": [],
   "source": [
    "spaces = []\n",
    "prices = []\n",
    "names = []\n",
    "for product in products_list:\n",
    "  spaces.append(product.space)\n",
    "  prices.append(product.price)\n",
    "  names.append(product.name)\n",
    "limit = 3"
   ]
  },
  {
   "cell_type": "code",
   "execution_count": 16,
   "metadata": {},
   "outputs": [
    {
     "name": "stdout",
     "output_type": "stream",
     "text": [
      "[0.751, 8.99e-06, 0.4, 0.29, 0.2, 0.0035, 0.496, 0.0424, 0.0544, 0.0319, 0.635, 0.87, 0.498, 0.527]\n",
      "[999.9, 2199.12, 4346.99, 3999.9, 2999.0, 2499.9, 199.9, 308.66, 429.9, 299.29, 849.0, 1199.89, 1999.9, 3999.0]\n",
      "['Refrigerator A', 'Cell phone', 'TV 55', \"TV 50' \", \"TV 42' \", 'Notebook A', 'Ventilator', 'Microwave A', 'Microwave B', 'Microwave C', 'Refrigerator B', 'Refrigerator C', 'Notebook B', 'Notebook C']\n"
     ]
    }
   ],
   "source": [
    "print(spaces)\n",
    "print(prices)\n",
    "print(names)"
   ]
  },
  {
   "cell_type": "code",
   "execution_count": 18,
   "metadata": {},
   "outputs": [
    {
     "name": "stdout",
     "output_type": "stream",
     "text": [
      "Spaces:  [0.751, 8.99e-06, 0.4, 0.29, 0.2, 0.0035, 0.496, 0.0424, 0.0544, 0.0319, 0.635, 0.87, 0.498, 0.527]\n",
      "Prices:  [999.9, 2199.12, 4346.99, 3999.9, 2999.0, 2499.9, 199.9, 308.66, 429.9, 299.29, 849.0, 1199.89, 1999.9, 3999.0]\n",
      "Chromosome:  ['0', '0', '1', '0', '1', '0', '1', '1', '1', '1', '0', '1', '0', '1']\n"
     ]
    }
   ],
   "source": [
    "Individual1 = Individual(spaces, prices, limit)\n",
    "print('Spaces: ', Individual1.spaces)\n",
    "print('Prices: ', Individual1.prices)\n",
    "print('Chromosome: ', Individual1.chromosome)"
   ]
  }
 ],
 "metadata": {
  "kernelspec": {
   "display_name": "base",
   "language": "python",
   "name": "python3"
  },
  "language_info": {
   "codemirror_mode": {
    "name": "ipython",
    "version": 3
   },
   "file_extension": ".py",
   "mimetype": "text/x-python",
   "name": "python",
   "nbconvert_exporter": "python",
   "pygments_lexer": "ipython3",
   "version": "3.12.4"
  }
 },
 "nbformat": 4,
 "nbformat_minor": 2
}
