{
 "cells": [
  {
   "cell_type": "markdown",
   "metadata": {},
   "source": [
    "INITIATING PRODUCT LIST"
   ]
  },
  {
   "cell_type": "code",
   "execution_count": 1,
   "metadata": {},
   "outputs": [],
   "source": [
    "class Product():\n",
    "  def __init__(self, name, space, price):\n",
    "    self.name = name\n",
    "    self.space = space\n",
    "    self.price = price"
   ]
  },
  {
   "cell_type": "code",
   "execution_count": 2,
   "metadata": {},
   "outputs": [],
   "source": [
    "products_list = []\n",
    "products_list.append(Product('Refrigerator A', 0.751, 999.90))\n",
    "products_list.append(Product('Cell phone', 0.00000899, 2199.12))\n",
    "products_list.append(Product('TV 55', 0.400, 4346.99))\n",
    "products_list.append(Product(\"TV 50' \", 0.290, 3999.90))\n",
    "products_list.append(Product(\"TV 42' \", 0.200, 2999.00))\n",
    "products_list.append(Product(\"Notebook A\", 0.00350, 2499.90))\n",
    "products_list.append(Product(\"Ventilator\", 0.496, 199.90))\n",
    "products_list.append(Product(\"Microwave A\", 0.0424, 308.66))\n",
    "products_list.append(Product(\"Microwave B\", 0.0544, 429.90))\n",
    "products_list.append(Product(\"Microwave C\", 0.0319, 299.29))\n",
    "products_list.append(Product(\"Refrigerator B\", 0.635, 849.00))\n",
    "products_list.append(Product(\"Refrigerator C\", 0.870, 1199.89))\n",
    "products_list.append(Product(\"Notebook B\", 0.498, 1999.90))\n",
    "products_list.append(Product(\"Notebook C\", 0.527, 3999.00)) "
   ]
  },
  {
   "cell_type": "code",
   "execution_count": 3,
   "metadata": {},
   "outputs": [
    {
     "name": "stdout",
     "output_type": "stream",
     "text": [
      "Refrigerator A  -  999.9  -  0.751\n",
      "Cell phone  -  2199.12  -  8.99e-06\n",
      "TV 55  -  4346.99  -  0.4\n",
      "TV 50'   -  3999.9  -  0.29\n",
      "TV 42'   -  2999.0  -  0.2\n",
      "Notebook A  -  2499.9  -  0.0035\n",
      "Ventilator  -  199.9  -  0.496\n",
      "Microwave A  -  308.66  -  0.0424\n",
      "Microwave B  -  429.9  -  0.0544\n",
      "Microwave C  -  299.29  -  0.0319\n",
      "Refrigerator B  -  849.0  -  0.635\n",
      "Refrigerator C  -  1199.89  -  0.87\n",
      "Notebook B  -  1999.9  -  0.498\n",
      "Notebook C  -  3999.0  -  0.527\n"
     ]
    }
   ],
   "source": [
    "for product in products_list:\n",
    "  print(product.name, ' - ', product.price, ' - ', product.space)"
   ]
  },
  {
   "cell_type": "code",
   "execution_count": 4,
   "metadata": {},
   "outputs": [],
   "source": [
    "from random import random"
   ]
  },
  {
   "cell_type": "markdown",
   "metadata": {},
   "source": [
    "INDIVIDUAL CLASS"
   ]
  },
  {
   "cell_type": "code",
   "execution_count": 5,
   "metadata": {},
   "outputs": [],
   "source": [
    "class Individual():\n",
    "  def __init__(self, spaces, prices, space_limit, generation=0):\n",
    "    self.spaces = spaces\n",
    "    self.prices = prices\n",
    "    self.space_limit = space_limit\n",
    "    self.score_evaluation = 0\n",
    "    self.used_spaces = 0\n",
    "    self.generation = generation\n",
    "    self.chromosome = []\n",
    "\n",
    "    for i in range(len(spaces)):\n",
    "      if random() < 0.5:\n",
    "        self.chromosome.append('0')\n",
    "      else:\n",
    "        self.chromosome.append('1')\n",
    "\n",
    "  def fitness(self): \n",
    "    score = 0\n",
    "    sum_spaces = 0 \n",
    "    for i in range(len(self.chromosome)):\n",
    "      if self.chromosome[i] == '1':\n",
    "        score += self.prices[i]\n",
    "        sum_spaces += self.spaces[i]\n",
    "      if sum_spaces > self.space_limit:\n",
    "        score = 1\n",
    "      self.score_evaluation = score\n",
    "      self.used_spaces = sum_spaces\n",
    "\n",
    "  def crossover(self, other_individual):\n",
    "    cutoff =  round(random() * len(self.chromosome))\n",
    "    # print(cutoff)\n",
    "    child1= other_individual.chromosome[0:cutoff] + self.chromosome[cutoff::]\n",
    "    child2= self.chromosome[0:cutoff] + other_individual.chromosome[cutoff::]\n",
    "    # print(child1)\n",
    "    # print(child2)\n",
    "    children = [Individual(self.spaces, self.prices, self.space_limit, self.generation + 1), \n",
    "                Individual(self.spaces, self.prices, self.space_limit, self.generation + 1)\n",
    "                ]\n",
    "    children[0].chromosome = child1\n",
    "    children[1].chromosome = child2\n",
    "    return children \n",
    "  \n",
    "  def mutation(self, rate):\n",
    "    #print('Before ', self.chromosome)\n",
    "    for i in range(len(self.chromosome)):\n",
    "      if random() < rate:\n",
    "        if self.chromosome[i] == '1':\n",
    "          self.chromosome[i] = '0'\n",
    "        else:\n",
    "          self.chromosome[1] ='1'\n",
    "    #print('after ', self.chromosome)\n",
    "    return self\n",
    "\n",
    "        \n",
    "\n",
    "\n",
    "    "
   ]
  },
  {
   "cell_type": "markdown",
   "metadata": {},
   "source": [
    "GENETICS ALGORITHM CLASS"
   ]
  },
  {
   "cell_type": "code",
   "execution_count": 6,
   "metadata": {},
   "outputs": [],
   "source": [
    "class GeneticAlgorithm():\n",
    "    def __init__(self, population_size):\n",
    "        self.population_size = population_size\n",
    "        self.population = []\n",
    "        self.generation = 0 \n",
    "        self.best_solution = None\n",
    "        self.list_of_solutions = []\n",
    "    def initialize_population(self, spaces, prices, space_limit):\n",
    "        for i in range(self.population_size):\n",
    "            self.population.append(Individual(spaces, prices, space_limit))\n",
    "        self.best_solution = self.population[0] \n",
    "    def order_population(self):\n",
    "        self.population  = sorted(self.population, key=lambda population: population.score_evaluation, reverse=True)\n",
    "\n",
    "    def best_individual(self, individual):\n",
    "        if individual.score_evaluation > self.best_solution.score_evaluation:\n",
    "            self.best_solution = individual\n",
    "    \n",
    "    def sum_evaluation(self):\n",
    "        sum = 0\n",
    "        for individual in self.population:\n",
    "            sum += individual.score_evaluation\n",
    "        return sum\n",
    "    def select_parent(self, sum_evaluation):\n",
    "        \n",
    "        parent = -1\n",
    "        random_value = random() * sum_evaluation\n",
    "        sum  = 0\n",
    "        i = 0 \n",
    "        # print('*** random value : ', random_value)\n",
    "        while i < len(self.population) and sum < random_value:\n",
    "            # print(':', i, '- SUM', sum)\n",
    "            sum += self.population[i].score_evaluation\n",
    "            parent += 1\n",
    "            i += 1\n",
    "        return parent\n",
    "    \n",
    "    def visualize_generation(self):\n",
    "        best = self.population[0]\n",
    "        print('Genenration :', self.population[0].generation, \n",
    "              'Total Price :', best.score_evaluation, 'Space : ', best.used_spaces, 'Chromosome : ', best.chromosome)\n",
    "        \n",
    "    def solve(self, mutation_probability, number_of_generations, spaces, prices, limit):\n",
    "        self.initialize_population(spaces, prices, limit)\n",
    "\n",
    "        for individual in self.population:\n",
    "            individual.fitness()\n",
    "        self.order_population()\n",
    "        self.visualize_generation()\n",
    "        for generation in range(number_of_generations):\n",
    "            sum = self.sum_evaluation()\n",
    "            new_population = []\n",
    "            for new_individuals in range(0, self.population_size, 2):\n",
    "                parent1 = self.select_parent(sum)\n",
    "                parent2 = self.select_parent(sum)\n",
    "                children = self.population[parent1].crossover(self.population[parent2])\n",
    "                new_population.append(children[0].mutation(mutation_probability))\n",
    "                new_population.append(children[1].mutation(mutation_probability))\n",
    "            self.population = list(new_population)\n",
    "            \n",
    "            for individual in self.population:\n",
    "                individual.fitness()\n",
    "            self.visualize_generation()\n",
    "            best = self.population[0]\n",
    "            self.best_individual(best)\n",
    "        print('\\n','---- Best Genenration :', self.best_solution.generation, \n",
    "              'Total Price :', self.best_solution.score_evaluation, 'Space : ', self.best_solution.used_spaces, 'Chromosome : ', self.best_solution.chromosome)    \n",
    "        return self.best_solution.chromosome\n"
   ]
  },
  {
   "cell_type": "code",
   "execution_count": 7,
   "metadata": {},
   "outputs": [],
   "source": [
    "spaces = []\n",
    "prices = []\n",
    "names = []\n",
    "for product in products_list:\n",
    "  spaces.append(product.space)\n",
    "  prices.append(product.price)\n",
    "  names.append(product.name)\n",
    "limit = 3"
   ]
  },
  {
   "cell_type": "code",
   "execution_count": 8,
   "metadata": {},
   "outputs": [
    {
     "name": "stdout",
     "output_type": "stream",
     "text": [
      "[0.751, 8.99e-06, 0.4, 0.29, 0.2, 0.0035, 0.496, 0.0424, 0.0544, 0.0319, 0.635, 0.87, 0.498, 0.527]\n",
      "[999.9, 2199.12, 4346.99, 3999.9, 2999.0, 2499.9, 199.9, 308.66, 429.9, 299.29, 849.0, 1199.89, 1999.9, 3999.0]\n",
      "['Refrigerator A', 'Cell phone', 'TV 55', \"TV 50' \", \"TV 42' \", 'Notebook A', 'Ventilator', 'Microwave A', 'Microwave B', 'Microwave C', 'Refrigerator B', 'Refrigerator C', 'Notebook B', 'Notebook C']\n"
     ]
    }
   ],
   "source": [
    "print(spaces)\n",
    "print(prices)\n",
    "print(names)"
   ]
  },
  {
   "cell_type": "markdown",
   "metadata": {},
   "source": [
    "TESTING CODE"
   ]
  },
  {
   "cell_type": "code",
   "execution_count": 9,
   "metadata": {},
   "outputs": [
    {
     "name": "stdout",
     "output_type": "stream",
     "text": [
      "Name : Refrigerator A\n",
      "Name : Cell phone\n",
      "Name : TV 55\n",
      "Name : Notebook A\n",
      "Name : Microwave A\n",
      "Name : Refrigerator C\n",
      "Name : Notebook B\n",
      "Name : Notebook C\n",
      "Score = 1\n",
      "Used Spaces =  3.0919089900000003\n",
      "Chromosome =   ['1', '1', '1', '0', '0', '1', '0', '1', '0', '0', '0', '1', '1', '1']\n"
     ]
    }
   ],
   "source": [
    "individual1 = Individual(spaces, prices, limit)\n",
    "#print('Spaces: ', individual1.spaces)\n",
    "#print('Prices: ', individual1.prices)\n",
    "#print('Chromosome: ', individual1.chromosome)\n",
    "for i in range(len(products_list)):\n",
    "    if individual1.chromosome[i] == '1':\n",
    "        print('Name :', products_list[i].name) \n",
    "individual1.fitness()\n",
    "print('Score =', individual1.score_evaluation)\n",
    "print('Used Spaces = ', individual1.used_spaces)\n",
    "print('Chromosome =  ', individual1.chromosome)"
   ]
  },
  {
   "cell_type": "code",
   "execution_count": 10,
   "metadata": {},
   "outputs": [
    {
     "name": "stdout",
     "output_type": "stream",
     "text": [
      "Name : Refrigerator A\n",
      "Name : TV 55\n",
      "Name : Notebook A\n",
      "Name : Microwave A\n",
      "Name : Microwave B\n",
      "Name : Refrigerator B\n",
      "Name : Refrigerator C\n",
      "Score = 10634.239999999998\n",
      "Used Spaces =  2.7563\n",
      "Chromosome =   ['1', '0', '1', '0', '0', '1', '0', '1', '1', '0', '1', '1', '0', '0']\n"
     ]
    }
   ],
   "source": [
    "individual2 = Individual(spaces, prices, limit)\n",
    "#print('Spaces: ', individual1.spaces)\n",
    "#print('Prices: ', individual1.prices)\n",
    "#print('Chromosome: ', individual1.chromosome)\n",
    "for i in range(len(products_list)):\n",
    "    if individual2.chromosome[i] == '1':\n",
    "        print('Name :', products_list[i].name) \n",
    "individual2.fitness()\n",
    "print('Score =', individual2.score_evaluation)\n",
    "print('Used Spaces = ', individual2.used_spaces)\n",
    "print('Chromosome =  ', individual2.chromosome)"
   ]
  },
  {
   "cell_type": "code",
   "execution_count": 11,
   "metadata": {},
   "outputs": [
    {
     "data": {
      "text/plain": [
       "1"
      ]
     },
     "execution_count": 11,
     "metadata": {},
     "output_type": "execute_result"
    }
   ],
   "source": [
    "children = individual1.crossover(individual2)\n",
    "children[0].fitness()\n",
    "children[0].score_evaluation\n"
   ]
  },
  {
   "cell_type": "code",
   "execution_count": 12,
   "metadata": {},
   "outputs": [
    {
     "data": {
      "text/plain": [
       "12833.359999999999"
      ]
     },
     "execution_count": 12,
     "metadata": {},
     "output_type": "execute_result"
    }
   ],
   "source": [
    "children[1].fitness()\n",
    "children[1].score_evaluation"
   ]
  },
  {
   "cell_type": "code",
   "execution_count": 13,
   "metadata": {},
   "outputs": [
    {
     "data": {
      "text/plain": [
       "<__main__.Individual at 0x22053dd7e30>"
      ]
     },
     "execution_count": 13,
     "metadata": {},
     "output_type": "execute_result"
    }
   ],
   "source": [
    "individual1.mutation(0.05)"
   ]
  },
  {
   "cell_type": "markdown",
   "metadata": {},
   "source": [
    "MULAI CODE"
   ]
  },
  {
   "cell_type": "code",
   "execution_count": 14,
   "metadata": {},
   "outputs": [],
   "source": [
    "population_size = 20\n",
    "ga = GeneticAlgorithm(population_size)\n",
    "ga.initialize_population(spaces, prices, limit)"
   ]
  },
  {
   "cell_type": "code",
   "execution_count": 15,
   "metadata": {},
   "outputs": [
    {
     "data": {
      "text/plain": [
       "20"
      ]
     },
     "execution_count": 15,
     "metadata": {},
     "output_type": "execute_result"
    }
   ],
   "source": [
    "len(ga.population)"
   ]
  },
  {
   "cell_type": "markdown",
   "metadata": {},
   "source": [
    "HASIL GENERATE POPULATION YANG BERISI 20 INDIVIDU"
   ]
  },
  {
   "cell_type": "code",
   "execution_count": 16,
   "metadata": {},
   "outputs": [
    {
     "name": "stdout",
     "output_type": "stream",
     "text": [
      "Individual:  0 \n",
      "Spaces:  [0.751, 8.99e-06, 0.4, 0.29, 0.2, 0.0035, 0.496, 0.0424, 0.0544, 0.0319, 0.635, 0.87, 0.498, 0.527] \n",
      "Prices:  [999.9, 2199.12, 4346.99, 3999.9, 2999.0, 2499.9, 199.9, 308.66, 429.9, 299.29, 849.0, 1199.89, 1999.9, 3999.0] \n",
      "Chromosome ['1', '0', '0', '1', '1', '1', '1', '0', '0', '0', '0', '0', '1', '0'] \n",
      " \n",
      "\n",
      "Individual:  1 \n",
      "Spaces:  [0.751, 8.99e-06, 0.4, 0.29, 0.2, 0.0035, 0.496, 0.0424, 0.0544, 0.0319, 0.635, 0.87, 0.498, 0.527] \n",
      "Prices:  [999.9, 2199.12, 4346.99, 3999.9, 2999.0, 2499.9, 199.9, 308.66, 429.9, 299.29, 849.0, 1199.89, 1999.9, 3999.0] \n",
      "Chromosome ['1', '0', '1', '1', '0', '1', '0', '1', '1', '0', '0', '0', '0', '1'] \n",
      " \n",
      "\n",
      "Individual:  2 \n",
      "Spaces:  [0.751, 8.99e-06, 0.4, 0.29, 0.2, 0.0035, 0.496, 0.0424, 0.0544, 0.0319, 0.635, 0.87, 0.498, 0.527] \n",
      "Prices:  [999.9, 2199.12, 4346.99, 3999.9, 2999.0, 2499.9, 199.9, 308.66, 429.9, 299.29, 849.0, 1199.89, 1999.9, 3999.0] \n",
      "Chromosome ['1', '0', '1', '0', '1', '1', '1', '0', '0', '1', '1', '0', '1', '1'] \n",
      " \n",
      "\n",
      "Individual:  3 \n",
      "Spaces:  [0.751, 8.99e-06, 0.4, 0.29, 0.2, 0.0035, 0.496, 0.0424, 0.0544, 0.0319, 0.635, 0.87, 0.498, 0.527] \n",
      "Prices:  [999.9, 2199.12, 4346.99, 3999.9, 2999.0, 2499.9, 199.9, 308.66, 429.9, 299.29, 849.0, 1199.89, 1999.9, 3999.0] \n",
      "Chromosome ['1', '1', '0', '0', '0', '1', '0', '0', '1', '1', '0', '1', '1', '1'] \n",
      " \n",
      "\n",
      "Individual:  4 \n",
      "Spaces:  [0.751, 8.99e-06, 0.4, 0.29, 0.2, 0.0035, 0.496, 0.0424, 0.0544, 0.0319, 0.635, 0.87, 0.498, 0.527] \n",
      "Prices:  [999.9, 2199.12, 4346.99, 3999.9, 2999.0, 2499.9, 199.9, 308.66, 429.9, 299.29, 849.0, 1199.89, 1999.9, 3999.0] \n",
      "Chromosome ['1', '0', '1', '0', '0', '1', '1', '1', '1', '1', '1', '1', '0', '0'] \n",
      " \n",
      "\n",
      "Individual:  5 \n",
      "Spaces:  [0.751, 8.99e-06, 0.4, 0.29, 0.2, 0.0035, 0.496, 0.0424, 0.0544, 0.0319, 0.635, 0.87, 0.498, 0.527] \n",
      "Prices:  [999.9, 2199.12, 4346.99, 3999.9, 2999.0, 2499.9, 199.9, 308.66, 429.9, 299.29, 849.0, 1199.89, 1999.9, 3999.0] \n",
      "Chromosome ['0', '0', '0', '0', '0', '1', '0', '0', '0', '0', '1', '0', '1', '1'] \n",
      " \n",
      "\n",
      "Individual:  6 \n",
      "Spaces:  [0.751, 8.99e-06, 0.4, 0.29, 0.2, 0.0035, 0.496, 0.0424, 0.0544, 0.0319, 0.635, 0.87, 0.498, 0.527] \n",
      "Prices:  [999.9, 2199.12, 4346.99, 3999.9, 2999.0, 2499.9, 199.9, 308.66, 429.9, 299.29, 849.0, 1199.89, 1999.9, 3999.0] \n",
      "Chromosome ['0', '1', '0', '1', '0', '1', '1', '0', '1', '0', '1', '0', '0', '1'] \n",
      " \n",
      "\n",
      "Individual:  7 \n",
      "Spaces:  [0.751, 8.99e-06, 0.4, 0.29, 0.2, 0.0035, 0.496, 0.0424, 0.0544, 0.0319, 0.635, 0.87, 0.498, 0.527] \n",
      "Prices:  [999.9, 2199.12, 4346.99, 3999.9, 2999.0, 2499.9, 199.9, 308.66, 429.9, 299.29, 849.0, 1199.89, 1999.9, 3999.0] \n",
      "Chromosome ['0', '0', '0', '0', '1', '1', '1', '0', '0', '0', '0', '1', '1', '0'] \n",
      " \n",
      "\n",
      "Individual:  8 \n",
      "Spaces:  [0.751, 8.99e-06, 0.4, 0.29, 0.2, 0.0035, 0.496, 0.0424, 0.0544, 0.0319, 0.635, 0.87, 0.498, 0.527] \n",
      "Prices:  [999.9, 2199.12, 4346.99, 3999.9, 2999.0, 2499.9, 199.9, 308.66, 429.9, 299.29, 849.0, 1199.89, 1999.9, 3999.0] \n",
      "Chromosome ['1', '1', '0', '1', '0', '1', '0', '0', '0', '0', '1', '0', '1', '0'] \n",
      " \n",
      "\n",
      "Individual:  9 \n",
      "Spaces:  [0.751, 8.99e-06, 0.4, 0.29, 0.2, 0.0035, 0.496, 0.0424, 0.0544, 0.0319, 0.635, 0.87, 0.498, 0.527] \n",
      "Prices:  [999.9, 2199.12, 4346.99, 3999.9, 2999.0, 2499.9, 199.9, 308.66, 429.9, 299.29, 849.0, 1199.89, 1999.9, 3999.0] \n",
      "Chromosome ['1', '1', '0', '1', '1', '1', '0', '0', '0', '0', '1', '1', '1', '1'] \n",
      " \n",
      "\n",
      "Individual:  10 \n",
      "Spaces:  [0.751, 8.99e-06, 0.4, 0.29, 0.2, 0.0035, 0.496, 0.0424, 0.0544, 0.0319, 0.635, 0.87, 0.498, 0.527] \n",
      "Prices:  [999.9, 2199.12, 4346.99, 3999.9, 2999.0, 2499.9, 199.9, 308.66, 429.9, 299.29, 849.0, 1199.89, 1999.9, 3999.0] \n",
      "Chromosome ['0', '0', '1', '1', '1', '0', '0', '1', '0', '1', '1', '1', '0', '1'] \n",
      " \n",
      "\n",
      "Individual:  11 \n",
      "Spaces:  [0.751, 8.99e-06, 0.4, 0.29, 0.2, 0.0035, 0.496, 0.0424, 0.0544, 0.0319, 0.635, 0.87, 0.498, 0.527] \n",
      "Prices:  [999.9, 2199.12, 4346.99, 3999.9, 2999.0, 2499.9, 199.9, 308.66, 429.9, 299.29, 849.0, 1199.89, 1999.9, 3999.0] \n",
      "Chromosome ['1', '0', '0', '0', '1', '1', '1', '0', '1', '1', '0', '0', '1', '1'] \n",
      " \n",
      "\n",
      "Individual:  12 \n",
      "Spaces:  [0.751, 8.99e-06, 0.4, 0.29, 0.2, 0.0035, 0.496, 0.0424, 0.0544, 0.0319, 0.635, 0.87, 0.498, 0.527] \n",
      "Prices:  [999.9, 2199.12, 4346.99, 3999.9, 2999.0, 2499.9, 199.9, 308.66, 429.9, 299.29, 849.0, 1199.89, 1999.9, 3999.0] \n",
      "Chromosome ['0', '0', '0', '0', '0', '1', '1', '1', '1', '0', '1', '1', '1', '0'] \n",
      " \n",
      "\n",
      "Individual:  13 \n",
      "Spaces:  [0.751, 8.99e-06, 0.4, 0.29, 0.2, 0.0035, 0.496, 0.0424, 0.0544, 0.0319, 0.635, 0.87, 0.498, 0.527] \n",
      "Prices:  [999.9, 2199.12, 4346.99, 3999.9, 2999.0, 2499.9, 199.9, 308.66, 429.9, 299.29, 849.0, 1199.89, 1999.9, 3999.0] \n",
      "Chromosome ['1', '1', '0', '1', '0', '1', '1', '1', '1', '1', '0', '1', '0', '1'] \n",
      " \n",
      "\n",
      "Individual:  14 \n",
      "Spaces:  [0.751, 8.99e-06, 0.4, 0.29, 0.2, 0.0035, 0.496, 0.0424, 0.0544, 0.0319, 0.635, 0.87, 0.498, 0.527] \n",
      "Prices:  [999.9, 2199.12, 4346.99, 3999.9, 2999.0, 2499.9, 199.9, 308.66, 429.9, 299.29, 849.0, 1199.89, 1999.9, 3999.0] \n",
      "Chromosome ['1', '1', '0', '1', '0', '1', '0', '1', '1', '1', '0', '0', '1', '0'] \n",
      " \n",
      "\n",
      "Individual:  15 \n",
      "Spaces:  [0.751, 8.99e-06, 0.4, 0.29, 0.2, 0.0035, 0.496, 0.0424, 0.0544, 0.0319, 0.635, 0.87, 0.498, 0.527] \n",
      "Prices:  [999.9, 2199.12, 4346.99, 3999.9, 2999.0, 2499.9, 199.9, 308.66, 429.9, 299.29, 849.0, 1199.89, 1999.9, 3999.0] \n",
      "Chromosome ['0', '1', '0', '0', '0', '0', '1', '0', '0', '0', '0', '0', '0', '1'] \n",
      " \n",
      "\n",
      "Individual:  16 \n",
      "Spaces:  [0.751, 8.99e-06, 0.4, 0.29, 0.2, 0.0035, 0.496, 0.0424, 0.0544, 0.0319, 0.635, 0.87, 0.498, 0.527] \n",
      "Prices:  [999.9, 2199.12, 4346.99, 3999.9, 2999.0, 2499.9, 199.9, 308.66, 429.9, 299.29, 849.0, 1199.89, 1999.9, 3999.0] \n",
      "Chromosome ['1', '0', '0', '1', '0', '1', '1', '1', '0', '0', '1', '1', '0', '1'] \n",
      " \n",
      "\n",
      "Individual:  17 \n",
      "Spaces:  [0.751, 8.99e-06, 0.4, 0.29, 0.2, 0.0035, 0.496, 0.0424, 0.0544, 0.0319, 0.635, 0.87, 0.498, 0.527] \n",
      "Prices:  [999.9, 2199.12, 4346.99, 3999.9, 2999.0, 2499.9, 199.9, 308.66, 429.9, 299.29, 849.0, 1199.89, 1999.9, 3999.0] \n",
      "Chromosome ['0', '1', '1', '1', '1', '0', '1', '0', '1', '1', '1', '1', '0', '0'] \n",
      " \n",
      "\n",
      "Individual:  18 \n",
      "Spaces:  [0.751, 8.99e-06, 0.4, 0.29, 0.2, 0.0035, 0.496, 0.0424, 0.0544, 0.0319, 0.635, 0.87, 0.498, 0.527] \n",
      "Prices:  [999.9, 2199.12, 4346.99, 3999.9, 2999.0, 2499.9, 199.9, 308.66, 429.9, 299.29, 849.0, 1199.89, 1999.9, 3999.0] \n",
      "Chromosome ['1', '0', '0', '1', '1', '1', '1', '1', '0', '1', '0', '1', '1', '1'] \n",
      " \n",
      "\n",
      "Individual:  19 \n",
      "Spaces:  [0.751, 8.99e-06, 0.4, 0.29, 0.2, 0.0035, 0.496, 0.0424, 0.0544, 0.0319, 0.635, 0.87, 0.498, 0.527] \n",
      "Prices:  [999.9, 2199.12, 4346.99, 3999.9, 2999.0, 2499.9, 199.9, 308.66, 429.9, 299.29, 849.0, 1199.89, 1999.9, 3999.0] \n",
      "Chromosome ['1', '1', '0', '0', '1', '1', '1', '1', '1', '1', '1', '0', '0', '0'] \n",
      " \n",
      "\n"
     ]
    }
   ],
   "source": [
    "for i in range(ga.population_size):\n",
    "    print('Individual: ', i, '\\nSpaces: ', ga.population[i].spaces, '\\nPrices: ', ga.population[i].prices, \n",
    "          '\\nChromosome', ga.population[i].chromosome, '\\n', '\\n')"
   ]
  },
  {
   "cell_type": "markdown",
   "metadata": {},
   "source": [
    "Hitung Fitness tiap individu dipopulation yang sudah digenerate, abis itu diorder, abis itu dicari yang paling best individualnya"
   ]
  },
  {
   "cell_type": "code",
   "execution_count": 17,
   "metadata": {},
   "outputs": [
    {
     "name": "stdout",
     "output_type": "stream",
     "text": [
      "Individual:  0 \n",
      "Spaces:  [0.751, 8.99e-06, 0.4, 0.29, 0.2, 0.0035, 0.496, 0.0424, 0.0544, 0.0319, 0.635, 0.87, 0.498, 0.527] \n",
      "Prices:  [999.9, 2199.12, 4346.99, 3999.9, 2999.0, 2499.9, 199.9, 308.66, 429.9, 299.29, 849.0, 1199.89, 1999.9, 3999.0] \n",
      "Chromosome ['0', '0', '1', '1', '1', '0', '0', '1', '0', '1', '1', '1', '0', '1'] \n",
      "Score: 18001.73 \n",
      "\n",
      "Individual:  1 \n",
      "Spaces:  [0.751, 8.99e-06, 0.4, 0.29, 0.2, 0.0035, 0.496, 0.0424, 0.0544, 0.0319, 0.635, 0.87, 0.498, 0.527] \n",
      "Prices:  [999.9, 2199.12, 4346.99, 3999.9, 2999.0, 2499.9, 199.9, 308.66, 429.9, 299.29, 849.0, 1199.89, 1999.9, 3999.0] \n",
      "Chromosome ['1', '0', '1', '1', '0', '1', '0', '1', '1', '0', '0', '0', '0', '1'] \n",
      "Score: 16584.25 \n",
      "\n",
      "Individual:  2 \n",
      "Spaces:  [0.751, 8.99e-06, 0.4, 0.29, 0.2, 0.0035, 0.496, 0.0424, 0.0544, 0.0319, 0.635, 0.87, 0.498, 0.527] \n",
      "Prices:  [999.9, 2199.12, 4346.99, 3999.9, 2999.0, 2499.9, 199.9, 308.66, 429.9, 299.29, 849.0, 1199.89, 1999.9, 3999.0] \n",
      "Chromosome ['0', '1', '1', '1', '1', '0', '1', '0', '1', '1', '1', '1', '0', '0'] \n",
      "Score: 16522.99 \n",
      "\n",
      "Individual:  3 \n",
      "Spaces:  [0.751, 8.99e-06, 0.4, 0.29, 0.2, 0.0035, 0.496, 0.0424, 0.0544, 0.0319, 0.635, 0.87, 0.498, 0.527] \n",
      "Prices:  [999.9, 2199.12, 4346.99, 3999.9, 2999.0, 2499.9, 199.9, 308.66, 429.9, 299.29, 849.0, 1199.89, 1999.9, 3999.0] \n",
      "Chromosome ['0', '1', '0', '1', '0', '1', '1', '0', '1', '0', '1', '0', '0', '1'] \n",
      "Score: 14176.72 \n",
      "\n",
      "Individual:  4 \n",
      "Spaces:  [0.751, 8.99e-06, 0.4, 0.29, 0.2, 0.0035, 0.496, 0.0424, 0.0544, 0.0319, 0.635, 0.87, 0.498, 0.527] \n",
      "Prices:  [999.9, 2199.12, 4346.99, 3999.9, 2999.0, 2499.9, 199.9, 308.66, 429.9, 299.29, 849.0, 1199.89, 1999.9, 3999.0] \n",
      "Chromosome ['1', '1', '0', '0', '0', '1', '0', '0', '1', '1', '0', '1', '1', '1'] \n",
      "Score: 13626.9 \n",
      "\n",
      "Individual:  5 \n",
      "Spaces:  [0.751, 8.99e-06, 0.4, 0.29, 0.2, 0.0035, 0.496, 0.0424, 0.0544, 0.0319, 0.635, 0.87, 0.498, 0.527] \n",
      "Prices:  [999.9, 2199.12, 4346.99, 3999.9, 2999.0, 2499.9, 199.9, 308.66, 429.9, 299.29, 849.0, 1199.89, 1999.9, 3999.0] \n",
      "Chromosome ['1', '0', '0', '0', '1', '1', '1', '0', '1', '1', '0', '0', '1', '1'] \n",
      "Score: 13426.789999999999 \n",
      "\n",
      "Individual:  6 \n",
      "Spaces:  [0.751, 8.99e-06, 0.4, 0.29, 0.2, 0.0035, 0.496, 0.0424, 0.0544, 0.0319, 0.635, 0.87, 0.498, 0.527] \n",
      "Prices:  [999.9, 2199.12, 4346.99, 3999.9, 2999.0, 2499.9, 199.9, 308.66, 429.9, 299.29, 849.0, 1199.89, 1999.9, 3999.0] \n",
      "Chromosome ['1', '1', '0', '1', '0', '1', '0', '1', '1', '1', '0', '0', '1', '0'] \n",
      "Score: 12736.57 \n",
      "\n",
      "Individual:  7 \n",
      "Spaces:  [0.751, 8.99e-06, 0.4, 0.29, 0.2, 0.0035, 0.496, 0.0424, 0.0544, 0.0319, 0.635, 0.87, 0.498, 0.527] \n",
      "Prices:  [999.9, 2199.12, 4346.99, 3999.9, 2999.0, 2499.9, 199.9, 308.66, 429.9, 299.29, 849.0, 1199.89, 1999.9, 3999.0] \n",
      "Chromosome ['1', '0', '0', '1', '1', '1', '1', '0', '0', '0', '0', '0', '1', '0'] \n",
      "Score: 12698.5 \n",
      "\n",
      "Individual:  8 \n",
      "Spaces:  [0.751, 8.99e-06, 0.4, 0.29, 0.2, 0.0035, 0.496, 0.0424, 0.0544, 0.0319, 0.635, 0.87, 0.498, 0.527] \n",
      "Prices:  [999.9, 2199.12, 4346.99, 3999.9, 2999.0, 2499.9, 199.9, 308.66, 429.9, 299.29, 849.0, 1199.89, 1999.9, 3999.0] \n",
      "Chromosome ['1', '1', '0', '1', '0', '1', '0', '0', '0', '0', '1', '0', '1', '0'] \n",
      "Score: 12547.72 \n",
      "\n",
      "Individual:  9 \n",
      "Spaces:  [0.751, 8.99e-06, 0.4, 0.29, 0.2, 0.0035, 0.496, 0.0424, 0.0544, 0.0319, 0.635, 0.87, 0.498, 0.527] \n",
      "Prices:  [999.9, 2199.12, 4346.99, 3999.9, 2999.0, 2499.9, 199.9, 308.66, 429.9, 299.29, 849.0, 1199.89, 1999.9, 3999.0] \n",
      "Chromosome ['1', '1', '0', '0', '1', '1', '1', '1', '1', '1', '1', '0', '0', '0'] \n",
      "Score: 10784.67 \n",
      "\n",
      "Individual:  10 \n",
      "Spaces:  [0.751, 8.99e-06, 0.4, 0.29, 0.2, 0.0035, 0.496, 0.0424, 0.0544, 0.0319, 0.635, 0.87, 0.498, 0.527] \n",
      "Prices:  [999.9, 2199.12, 4346.99, 3999.9, 2999.0, 2499.9, 199.9, 308.66, 429.9, 299.29, 849.0, 1199.89, 1999.9, 3999.0] \n",
      "Chromosome ['0', '0', '0', '0', '0', '1', '0', '0', '0', '0', '1', '0', '1', '1'] \n",
      "Score: 9347.8 \n",
      "\n",
      "Individual:  11 \n",
      "Spaces:  [0.751, 8.99e-06, 0.4, 0.29, 0.2, 0.0035, 0.496, 0.0424, 0.0544, 0.0319, 0.635, 0.87, 0.498, 0.527] \n",
      "Prices:  [999.9, 2199.12, 4346.99, 3999.9, 2999.0, 2499.9, 199.9, 308.66, 429.9, 299.29, 849.0, 1199.89, 1999.9, 3999.0] \n",
      "Chromosome ['0', '0', '0', '0', '1', '1', '1', '0', '0', '0', '0', '1', '1', '0'] \n",
      "Score: 8898.59 \n",
      "\n",
      "Individual:  12 \n",
      "Spaces:  [0.751, 8.99e-06, 0.4, 0.29, 0.2, 0.0035, 0.496, 0.0424, 0.0544, 0.0319, 0.635, 0.87, 0.498, 0.527] \n",
      "Prices:  [999.9, 2199.12, 4346.99, 3999.9, 2999.0, 2499.9, 199.9, 308.66, 429.9, 299.29, 849.0, 1199.89, 1999.9, 3999.0] \n",
      "Chromosome ['0', '0', '0', '0', '0', '1', '1', '1', '1', '0', '1', '1', '1', '0'] \n",
      "Score: 7487.1500000000015 \n",
      "\n",
      "Individual:  13 \n",
      "Spaces:  [0.751, 8.99e-06, 0.4, 0.29, 0.2, 0.0035, 0.496, 0.0424, 0.0544, 0.0319, 0.635, 0.87, 0.498, 0.527] \n",
      "Prices:  [999.9, 2199.12, 4346.99, 3999.9, 2999.0, 2499.9, 199.9, 308.66, 429.9, 299.29, 849.0, 1199.89, 1999.9, 3999.0] \n",
      "Chromosome ['0', '1', '0', '0', '0', '0', '1', '0', '0', '0', '0', '0', '0', '1'] \n",
      "Score: 6398.02 \n",
      "\n",
      "Individual:  14 \n",
      "Spaces:  [0.751, 8.99e-06, 0.4, 0.29, 0.2, 0.0035, 0.496, 0.0424, 0.0544, 0.0319, 0.635, 0.87, 0.498, 0.527] \n",
      "Prices:  [999.9, 2199.12, 4346.99, 3999.9, 2999.0, 2499.9, 199.9, 308.66, 429.9, 299.29, 849.0, 1199.89, 1999.9, 3999.0] \n",
      "Chromosome ['1', '0', '1', '0', '1', '1', '1', '0', '0', '1', '1', '0', '1', '1'] \n",
      "Score: 1 \n",
      "\n",
      "Individual:  15 \n",
      "Spaces:  [0.751, 8.99e-06, 0.4, 0.29, 0.2, 0.0035, 0.496, 0.0424, 0.0544, 0.0319, 0.635, 0.87, 0.498, 0.527] \n",
      "Prices:  [999.9, 2199.12, 4346.99, 3999.9, 2999.0, 2499.9, 199.9, 308.66, 429.9, 299.29, 849.0, 1199.89, 1999.9, 3999.0] \n",
      "Chromosome ['1', '0', '1', '0', '0', '1', '1', '1', '1', '1', '1', '1', '0', '0'] \n",
      "Score: 1 \n",
      "\n",
      "Individual:  16 \n",
      "Spaces:  [0.751, 8.99e-06, 0.4, 0.29, 0.2, 0.0035, 0.496, 0.0424, 0.0544, 0.0319, 0.635, 0.87, 0.498, 0.527] \n",
      "Prices:  [999.9, 2199.12, 4346.99, 3999.9, 2999.0, 2499.9, 199.9, 308.66, 429.9, 299.29, 849.0, 1199.89, 1999.9, 3999.0] \n",
      "Chromosome ['1', '1', '0', '1', '1', '1', '0', '0', '0', '0', '1', '1', '1', '1'] \n",
      "Score: 1 \n",
      "\n",
      "Individual:  17 \n",
      "Spaces:  [0.751, 8.99e-06, 0.4, 0.29, 0.2, 0.0035, 0.496, 0.0424, 0.0544, 0.0319, 0.635, 0.87, 0.498, 0.527] \n",
      "Prices:  [999.9, 2199.12, 4346.99, 3999.9, 2999.0, 2499.9, 199.9, 308.66, 429.9, 299.29, 849.0, 1199.89, 1999.9, 3999.0] \n",
      "Chromosome ['1', '1', '0', '1', '0', '1', '1', '1', '1', '1', '0', '1', '0', '1'] \n",
      "Score: 1 \n",
      "\n",
      "Individual:  18 \n",
      "Spaces:  [0.751, 8.99e-06, 0.4, 0.29, 0.2, 0.0035, 0.496, 0.0424, 0.0544, 0.0319, 0.635, 0.87, 0.498, 0.527] \n",
      "Prices:  [999.9, 2199.12, 4346.99, 3999.9, 2999.0, 2499.9, 199.9, 308.66, 429.9, 299.29, 849.0, 1199.89, 1999.9, 3999.0] \n",
      "Chromosome ['1', '0', '0', '1', '0', '1', '1', '1', '0', '0', '1', '1', '0', '1'] \n",
      "Score: 1 \n",
      "\n",
      "Individual:  19 \n",
      "Spaces:  [0.751, 8.99e-06, 0.4, 0.29, 0.2, 0.0035, 0.496, 0.0424, 0.0544, 0.0319, 0.635, 0.87, 0.498, 0.527] \n",
      "Prices:  [999.9, 2199.12, 4346.99, 3999.9, 2999.0, 2499.9, 199.9, 308.66, 429.9, 299.29, 849.0, 1199.89, 1999.9, 3999.0] \n",
      "Chromosome ['1', '0', '0', '1', '1', '1', '1', '1', '0', '1', '0', '1', '1', '1'] \n",
      "Score: 1 \n",
      "\n"
     ]
    }
   ],
   "source": [
    "for individual in ga.population:\n",
    "    individual.fitness()\n",
    "ga.order_population()\n",
    "for i in range(ga.population_size):\n",
    "    print('Individual: ', i, '\\nSpaces: ', ga.population[i].spaces, '\\nPrices: ', ga.population[i].prices, \n",
    "          '\\nChromosome', ga.population[i].chromosome, '\\nScore:', ga.population[i].score_evaluation, '\\n')"
   ]
  },
  {
   "cell_type": "code",
   "execution_count": 18,
   "metadata": {},
   "outputs": [
    {
     "name": "stdout",
     "output_type": "stream",
     "text": [
      "12698.5\n"
     ]
    }
   ],
   "source": [
    "ga.best_solution.score_evaluation\n",
    "print(ga.best_solution.score_evaluation)"
   ]
  },
  {
   "cell_type": "code",
   "execution_count": 19,
   "metadata": {},
   "outputs": [],
   "source": [
    "ga.best_individual(ga.population[0])\n",
    "# ngasih tau kalo best indibidual itu ada di bagian paling atas '0'\n"
   ]
  },
  {
   "cell_type": "code",
   "execution_count": 20,
   "metadata": {},
   "outputs": [
    {
     "data": {
      "text/plain": [
       "18001.73"
      ]
     },
     "execution_count": 20,
     "metadata": {},
     "output_type": "execute_result"
    }
   ],
   "source": [
    "ga.best_solution.score_evaluation"
   ]
  },
  {
   "cell_type": "code",
   "execution_count": 21,
   "metadata": {},
   "outputs": [
    {
     "name": "stdout",
     "output_type": "stream",
     "text": [
      "173244.39999999997\n"
     ]
    }
   ],
   "source": [
    "ga.sum_evaluation()\n",
    "sum = ga.sum_evaluation()\n",
    "print(sum)"
   ]
  },
  {
   "cell_type": "code",
   "execution_count": 22,
   "metadata": {},
   "outputs": [
    {
     "data": {
      "text/plain": [
       "1"
      ]
     },
     "execution_count": 22,
     "metadata": {},
     "output_type": "execute_result"
    }
   ],
   "source": [
    "parent1 = ga.select_parent(sum)\n",
    "parent1"
   ]
  },
  {
   "cell_type": "code",
   "execution_count": 23,
   "metadata": {},
   "outputs": [
    {
     "data": {
      "text/plain": [
       "1"
      ]
     },
     "execution_count": 23,
     "metadata": {},
     "output_type": "execute_result"
    }
   ],
   "source": [
    "parent2 = ga.select_parent(sum)\n",
    "parent2"
   ]
  },
  {
   "cell_type": "code",
   "execution_count": 24,
   "metadata": {},
   "outputs": [
    {
     "name": "stdout",
     "output_type": "stream",
     "text": [
      "\n",
      " 9 1\n",
      "['1', '1', '0', '0', '1', '1', '1', '1', '1', '1', '1', '0', '0', '0']\n",
      "['1', '0', '1', '1', '0', '1', '0', '1', '1', '0', '0', '0', '0', '1']\n",
      "['1', '0', '1', '1', '0', '1', '0', '1', '1', '1', '1', '0', '0', '0']\n",
      "['1', '1', '0', '0', '1', '1', '1', '1', '1', '0', '0', '0', '0', '1']\n",
      "\n",
      " 5 5\n",
      "['1', '0', '0', '0', '1', '1', '1', '0', '1', '1', '0', '0', '1', '1']\n",
      "['1', '0', '0', '0', '1', '1', '1', '0', '1', '1', '0', '0', '1', '1']\n",
      "['1', '0', '0', '0', '1', '1', '1', '0', '1', '1', '0', '0', '1', '1']\n",
      "['1', '0', '0', '0', '1', '1', '1', '0', '1', '1', '0', '0', '1', '1']\n",
      "\n",
      " 6 13\n",
      "['1', '1', '0', '1', '0', '1', '0', '1', '1', '1', '0', '0', '1', '0']\n",
      "['0', '1', '0', '0', '0', '0', '1', '0', '0', '0', '0', '0', '0', '1']\n",
      "['0', '1', '0', '0', '0', '1', '0', '1', '1', '1', '0', '0', '1', '0']\n",
      "['1', '1', '0', '1', '0', '0', '1', '0', '0', '0', '0', '0', '0', '1']\n",
      "\n",
      " 12 1\n",
      "['0', '0', '0', '0', '0', '1', '1', '1', '1', '0', '1', '1', '1', '0']\n",
      "['1', '0', '1', '1', '0', '1', '0', '1', '1', '0', '0', '0', '0', '1']\n",
      "['1', '0', '1', '1', '0', '1', '0', '1', '1', '0', '0', '0', '0', '0']\n",
      "['0', '0', '0', '0', '0', '1', '1', '1', '1', '0', '1', '1', '1', '1']\n",
      "\n",
      " 5 5\n",
      "['1', '0', '0', '0', '1', '1', '1', '0', '1', '1', '0', '0', '1', '1']\n",
      "['1', '0', '0', '0', '1', '1', '1', '0', '1', '1', '0', '0', '1', '1']\n",
      "['1', '0', '0', '0', '1', '1', '1', '0', '1', '1', '0', '0', '1', '1']\n",
      "['1', '0', '0', '0', '1', '1', '1', '0', '1', '1', '0', '0', '1', '1']\n",
      "\n",
      " 8 12\n",
      "['1', '1', '0', '1', '0', '1', '0', '0', '0', '0', '1', '0', '1', '0']\n",
      "['0', '0', '0', '0', '0', '1', '1', '1', '1', '0', '1', '1', '1', '0']\n",
      "['0', '1', '0', '1', '0', '1', '0', '0', '0', '0', '1', '0', '1', '0']\n",
      "['1', '0', '0', '0', '0', '1', '1', '1', '1', '0', '1', '1', '1', '0']\n",
      "\n",
      " 2 8\n",
      "['0', '1', '1', '1', '1', '0', '1', '0', '1', '1', '1', '1', '0', '0']\n",
      "['1', '1', '0', '1', '0', '1', '0', '0', '0', '0', '1', '0', '1', '0']\n",
      "['1', '1', '0', '1', '0', '1', '0', '0', '0', '0', '1', '1', '0', '0']\n",
      "['0', '1', '1', '1', '1', '0', '1', '0', '1', '1', '1', '0', '1', '0']\n",
      "\n",
      " 8 8\n",
      "['1', '1', '0', '1', '0', '1', '0', '0', '0', '0', '1', '0', '1', '0']\n",
      "['1', '1', '0', '1', '0', '1', '0', '0', '0', '0', '1', '0', '1', '0']\n",
      "['1', '1', '0', '1', '0', '1', '0', '0', '0', '0', '1', '0', '1', '0']\n",
      "['1', '1', '0', '1', '0', '1', '0', '0', '0', '0', '1', '0', '1', '0']\n",
      "\n",
      " 12 0\n",
      "['0', '0', '0', '0', '0', '1', '1', '1', '1', '0', '1', '1', '1', '0']\n",
      "['0', '0', '1', '1', '1', '0', '0', '1', '0', '1', '1', '1', '0', '1']\n",
      "['0', '0', '1', '1', '1', '0', '0', '1', '0', '0', '1', '1', '1', '0']\n",
      "['0', '0', '0', '0', '0', '1', '1', '1', '1', '1', '1', '1', '0', '1']\n",
      "\n",
      " 9 8\n",
      "['1', '1', '0', '0', '1', '1', '1', '1', '1', '1', '1', '0', '0', '0']\n",
      "['1', '1', '0', '1', '0', '1', '0', '0', '0', '0', '1', '0', '1', '0']\n",
      "['1', '1', '0', '1', '1', '1', '1', '1', '1', '1', '1', '0', '0', '0']\n",
      "['1', '1', '0', '0', '0', '1', '0', '0', '0', '0', '1', '0', '1', '0']\n"
     ]
    }
   ],
   "source": [
    "new_population = []\n",
    "mutation_probability = 0.01\n",
    "for new_individuals in range(0, ga.population_size, 2):\n",
    "    parent1 = ga.select_parent(sum)\n",
    "    parent2 = ga.select_parent(sum)\n",
    "    print('\\n', parent1, parent2)\n",
    "    children = ga.population[parent1].crossover(ga.population[parent2])\n",
    "    print(ga.population[parent1].chromosome)\n",
    "    print(ga.population[parent2].chromosome)\n",
    "    print(children[0].chromosome)\n",
    "    print(children[1].chromosome)\n",
    "    \n",
    "    new_population.append(children[0].mutation(mutation_probability))\n",
    "    new_population.append(children[1].mutation(mutation_probability))\n",
    "\n",
    "\n",
    "    "
   ]
  },
  {
   "cell_type": "code",
   "execution_count": null,
   "metadata": {},
   "outputs": [],
   "source": []
  },
  {
   "cell_type": "markdown",
   "metadata": {},
   "source": [
    "PUTTING ALL THE FUNCTION TOGETHER FOR IMPLEMENTATION"
   ]
  },
  {
   "cell_type": "code",
   "execution_count": 25,
   "metadata": {},
   "outputs": [
    {
     "name": "stdout",
     "output_type": "stream",
     "text": [
      "Genenration : 0 Total Price : 16083.66 Space :  1.3202089899999998 Chromosome :  ['0', '1', '1', '1', '0', '1', '0', '1', '1', '1', '0', '0', '1', '0']\n",
      "Genenration : 1 Total Price : 12135.56 Space :  2.1962089899999997 Chromosome :  ['0', '1', '0', '0', '1', '1', '1', '1', '1', '1', '0', '1', '1', '0']\n",
      "Genenration : 2 Total Price : 9628.68 Space :  2.4968 Chromosome :  ['1', '0', '0', '1', '0', '1', '1', '0', '1', '1', '0', '1', '0', '0']\n",
      "Genenration : 3 Total Price : 17651.86 Space :  1.95580899 Chromosome :  ['1', '1', '1', '0', '1', '1', '0', '1', '0', '1', '0', '0', '0', '1']\n",
      "Genenration : 4 Total Price : 16304.87 Space :  1.0948089900000002 Chromosome :  ['0', '1', '0', '1', '1', '1', '0', '1', '0', '1', '0', '0', '0', '1']\n",
      "Genenration : 5 Total Price : 17852.760000000002 Space :  1.79080899 Chromosome :  ['0', '1', '1', '1', '0', '1', '1', '1', '0', '1', '0', '0', '0', '1']\n",
      "Genenration : 6 Total Price : 17852.760000000002 Space :  1.79080899 Chromosome :  ['0', '1', '1', '1', '0', '1', '1', '1', '0', '1', '0', '0', '0', '1']\n",
      "Genenration : 7 Total Price : 16304.87 Space :  1.0948089900000002 Chromosome :  ['0', '1', '0', '1', '1', '1', '0', '1', '0', '1', '0', '0', '0', '1']\n",
      "Genenration : 8 Total Price : 18734.67 Space :  1.6472089900000002 Chromosome :  ['0', '1', '0', '1', '1', '1', '0', '1', '1', '1', '0', '0', '1', '1']\n",
      "Genenration : 9 Total Price : 17552.559999999998 Space :  2.04290899 Chromosome :  ['0', '1', '1', '0', '1', '1', '0', '1', '0', '0', '0', '1', '0', '1']\n",
      "Genenration : 10 Total Price : 20851.760000000002 Space :  1.9908089900000001 Chromosome :  ['0', '1', '1', '1', '1', '1', '1', '1', '0', '1', '0', '0', '0', '1']\n",
      "Genenration : 11 Total Price : 13005.76 Space :  1.93230899 Chromosome :  ['0', '1', '0', '1', '1', '0', '0', '1', '0', '1', '0', '1', '1', '0']\n",
      "Genenration : 12 Total Price : 17825.9 Space :  2.4728089900000003 Chromosome :  ['0', '1', '0', '1', '1', '1', '1', '0', '1', '1', '0', '1', '0', '1']\n",
      "Genenration : 13 Total Price : 15004.86 Space :  1.96130899 Chromosome :  ['0', '1', '0', '1', '1', '0', '0', '1', '0', '1', '0', '1', '0', '1']\n",
      "Genenration : 14 Total Price : 17504.760000000002 Space :  1.9648089900000003 Chromosome :  ['0', '1', '0', '1', '1', '1', '0', '1', '0', '1', '0', '1', '0', '1']\n",
      "Genenration : 15 Total Price : 13627.01 Space :  1.40280899 Chromosome :  ['0', '1', '0', '1', '0', '1', '1', '0', '1', '1', '0', '0', '0', '1']\n",
      "Genenration : 16 Total Price : 16196.11 Space :  1.54840899 Chromosome :  ['0', '1', '0', '1', '1', '1', '1', '0', '0', '1', '0', '0', '0', '1']\n",
      "Genenration : 17 Total Price : 20651.86 Space :  1.49480899 Chromosome :  ['0', '1', '1', '1', '1', '1', '0', '1', '0', '1', '0', '0', '0', '1']\n",
      "Genenration : 18 Total Price : 20552.47 Space :  1.9589089899999999 Chromosome :  ['0', '1', '1', '1', '1', '1', '1', '1', '0', '0', '0', '0', '0', '1']\n",
      "Genenration : 19 Total Price : 18743.989999999998 Space :  2.61840899 Chromosome :  ['0', '1', '1', '1', '0', '1', '1', '0', '0', '1', '0', '1', '0', '1']\n",
      "Genenration : 20 Total Price : 17504.760000000002 Space :  1.9648089900000003 Chromosome :  ['0', '1', '0', '1', '1', '1', '0', '1', '0', '1', '0', '1', '0', '1']\n",
      "Genenration : 21 Total Price : 20973.0 Space :  2.00280899 Chromosome :  ['0', '1', '1', '1', '1', '1', '1', '0', '1', '1', '0', '0', '0', '1']\n",
      "Genenration : 22 Total Price : 18581.86 Space :  1.54570899 Chromosome :  ['0', '1', '1', '1', '1', '0', '0', '1', '1', '1', '0', '0', '0', '1']\n",
      "Genenration : 23 Total Price : 16196.11 Space :  1.54840899 Chromosome :  ['0', '1', '0', '1', '1', '1', '1', '0', '0', '1', '0', '0', '0', '1']\n",
      "Genenration : 24 Total Price : 21742.989999999998 Space :  2.81840899 Chromosome :  ['0', '1', '1', '1', '1', '1', '1', '0', '0', '1', '0', '1', '0', '1']\n",
      "Genenration : 25 Total Price : 20651.86 Space :  1.49480899 Chromosome :  ['0', '1', '1', '1', '1', '1', '0', '1', '0', '1', '0', '0', '0', '1']\n",
      "Genenration : 26 Total Price : 21851.75 Space :  2.3648089899999998 Chromosome :  ['0', '1', '1', '1', '1', '1', '0', '1', '0', '1', '0', '1', '0', '1']\n",
      "Genenration : 27 Total Price : 20651.86 Space :  1.49480899 Chromosome :  ['0', '1', '1', '1', '1', '1', '0', '1', '0', '1', '0', '0', '0', '1']\n",
      "Genenration : 28 Total Price : 22172.89 Space :  2.8728089900000002 Chromosome :  ['0', '1', '1', '1', '1', '1', '1', '0', '1', '1', '0', '1', '0', '1']\n",
      "Genenration : 29 Total Price : 21742.989999999998 Space :  2.81840899 Chromosome :  ['0', '1', '1', '1', '1', '1', '1', '0', '0', '1', '0', '1', '0', '1']\n",
      "Genenration : 30 Total Price : 19282.65 Space :  2.21920899 Chromosome :  ['0', '1', '1', '1', '0', '1', '0', '1', '1', '1', '0', '1', '0', '1']\n",
      "Genenration : 31 Total Price : 19282.65 Space :  2.21920899 Chromosome :  ['0', '1', '1', '1', '0', '1', '0', '1', '1', '1', '0', '1', '0', '1']\n",
      "Genenration : 32 Total Price : 21552.46 Space :  2.33290899 Chromosome :  ['0', '1', '1', '1', '1', '1', '0', '1', '0', '0', '0', '1', '0', '1']\n",
      "Genenration : 33 Total Price : 19282.65 Space :  2.21920899 Chromosome :  ['0', '1', '1', '1', '0', '1', '0', '1', '1', '1', '0', '1', '0', '1']\n",
      "Genenration : 34 Total Price : 20352.57 Space :  1.4629089899999999 Chromosome :  ['0', '1', '1', '1', '1', '1', '0', '1', '0', '0', '0', '0', '0', '1']\n",
      "Genenration : 35 Total Price : 21443.7 Space :  2.78650899 Chromosome :  ['0', '1', '1', '1', '1', '1', '1', '0', '0', '0', '0', '1', '0', '1']\n",
      "Genenration : 36 Total Price : 22281.65 Space :  2.41920899 Chromosome :  ['0', '1', '1', '1', '1', '1', '0', '1', '1', '1', '0', '1', '0', '1']\n",
      "Genenration : 37 Total Price : 19282.65 Space :  2.21920899 Chromosome :  ['0', '1', '1', '1', '0', '1', '0', '1', '1', '1', '0', '1', '0', '1']\n",
      "Genenration : 38 Total Price : 18553.46 Space :  2.13290899 Chromosome :  ['0', '1', '1', '1', '0', '1', '0', '1', '0', '0', '0', '1', '0', '1']\n",
      "Genenration : 39 Total Price : 18244.8 Space :  2.09050899 Chromosome :  ['0', '1', '1', '1', '0', '1', '0', '0', '0', '0', '0', '1', '0', '1']\n",
      "Genenration : 40 Total Price : 21552.46 Space :  2.33290899 Chromosome :  ['0', '1', '1', '1', '1', '1', '0', '1', '0', '0', '0', '1', '0', '1']\n",
      "Genenration : 41 Total Price : 18973.989999999998 Space :  2.17680899 Chromosome :  ['0', '1', '1', '1', '0', '1', '0', '0', '1', '1', '0', '1', '0', '1']\n",
      "Genenration : 42 Total Price : 16244.09 Space :  2.61490899 Chromosome :  ['0', '1', '1', '1', '0', '0', '1', '0', '0', '1', '0', '1', '0', '1']\n",
      "Genenration : 43 Total Price : 19243.09 Space :  2.81490899 Chromosome :  ['0', '1', '1', '1', '1', '0', '1', '0', '0', '1', '0', '1', '0', '1']\n",
      "Genenration : 44 Total Price : 16244.09 Space :  2.61490899 Chromosome :  ['0', '1', '1', '1', '0', '0', '1', '0', '0', '1', '0', '1', '0', '1']\n",
      "Genenration : 45 Total Price : 16044.91 Space :  0.8935089899999998 Chromosome :  ['0', '1', '1', '1', '1', '1', '0', '0', '0', '0', '0', '0', '0', '0']\n",
      "Genenration : 46 Total Price : 18544.09 Space :  2.12240899 Chromosome :  ['0', '1', '1', '1', '0', '1', '0', '0', '0', '1', '0', '1', '0', '1']\n",
      "Genenration : 47 Total Price : 18244.8 Space :  2.09050899 Chromosome :  ['0', '1', '1', '1', '0', '1', '0', '0', '0', '0', '0', '1', '0', '1']\n",
      "Genenration : 48 Total Price : 18973.989999999998 Space :  2.17680899 Chromosome :  ['0', '1', '1', '1', '0', '1', '0', '0', '1', '1', '0', '1', '0', '1']\n",
      "Genenration : 49 Total Price : 18973.989999999998 Space :  2.17680899 Chromosome :  ['0', '1', '1', '1', '0', '1', '0', '0', '1', '1', '0', '1', '0', '1']\n",
      "Genenration : 50 Total Price : 17244.8 Space :  1.7635089899999998 Chromosome :  ['0', '1', '1', '1', '1', '1', '0', '0', '0', '0', '0', '1', '0', '0']\n",
      "\n",
      " ---- Best Genenration : 36 Total Price : 22281.65 Space :  2.41920899 Chromosome :  ['0', '1', '1', '1', '1', '1', '0', '1', '1', '1', '0', '1', '0', '1']\n"
     ]
    },
    {
     "ename": "TypeError",
     "evalue": "'NoneType' object is not subscriptable",
     "output_type": "error",
     "traceback": [
      "\u001b[1;31m---------------------------------------------------------------------------\u001b[0m",
      "\u001b[1;31mTypeError\u001b[0m                                 Traceback (most recent call last)",
      "Cell \u001b[1;32mIn[25], line 30\u001b[0m\n\u001b[0;32m     28\u001b[0m result \u001b[38;5;241m=\u001b[39m ga\u001b[38;5;241m.\u001b[39msolve(mutation_probability, number_of_generations, spaces, prices, limit)\n\u001b[0;32m     29\u001b[0m \u001b[38;5;28;01mfor\u001b[39;00m i \u001b[38;5;129;01min\u001b[39;00m \u001b[38;5;28mrange\u001b[39m(\u001b[38;5;28mlen\u001b[39m(products_list)):\n\u001b[1;32m---> 30\u001b[0m   \u001b[38;5;28;01mif\u001b[39;00m result[i] \u001b[38;5;241m==\u001b[39m \u001b[38;5;124m'\u001b[39m\u001b[38;5;124m1\u001b[39m\u001b[38;5;124m'\u001b[39m:\n\u001b[0;32m     31\u001b[0m     \u001b[38;5;28mprint\u001b[39m (\u001b[38;5;124m'\u001b[39m\u001b[38;5;124mName : \u001b[39m\u001b[38;5;124m'\u001b[39m, products_list[i]\u001b[38;5;241m.\u001b[39mname, \u001b[38;5;124m'\u001b[39m\u001b[38;5;124m Price : \u001b[39m\u001b[38;5;124m'\u001b[39m,products_list[i]\u001b[38;5;241m.\u001b[39mprice )\n",
      "\u001b[1;31mTypeError\u001b[0m: 'NoneType' object is not subscriptable"
     ]
    }
   ],
   "source": [
    "products_list = []\n",
    "products_list.append(Product('Refrigerator A', 0.751, 999.90))\n",
    "products_list.append(Product('Cell phone', 0.00000899, 2199.12))\n",
    "products_list.append(Product('TV 55', 0.400, 4346.99))\n",
    "products_list.append(Product(\"TV 50' \", 0.290, 3999.90))\n",
    "products_list.append(Product(\"TV 42' \", 0.200, 2999.00))\n",
    "products_list.append(Product(\"Notebook A\", 0.00350, 2499.90))\n",
    "products_list.append(Product(\"Ventilator\", 0.496, 199.90))\n",
    "products_list.append(Product(\"Microwave A\", 0.0424, 308.66))\n",
    "products_list.append(Product(\"Microwave B\", 0.0544, 429.90))\n",
    "products_list.append(Product(\"Microwave C\", 0.0319, 299.29))\n",
    "products_list.append(Product(\"Refrigerator B\", 0.635, 849.00))\n",
    "products_list.append(Product(\"Refrigerator C\", 0.870, 1199.89))\n",
    "products_list.append(Product(\"Notebook B\", 0.498, 1999.90))\n",
    "products_list.append(Product(\"Notebook C\", 0.527, 3999.00)) \n",
    "spaces = []\n",
    "prices = []\n",
    "names = []\n",
    "for product in products_list:\n",
    "  spaces.append(product.space)\n",
    "  prices.append(product.price)\n",
    "  names.append(product.name)\n",
    "limit = 3   \n",
    "population_size = 20\n",
    "mutation_probability = 0.01\n",
    "number_of_generations  =  50\n",
    "ga = GeneticAlgorithm(population_size)\n",
    "result = ga.solve(mutation_probability, number_of_generations, spaces, prices, limit)\n",
    "for i in range(len(products_list)):\n",
    "  if result[i] == '1':\n",
    "    print ('Name : ', products_list[i].name, ' Price : ',products_list[i].price )"
   ]
  }
 ],
 "metadata": {
  "kernelspec": {
   "display_name": "base",
   "language": "python",
   "name": "python3"
  },
  "language_info": {
   "codemirror_mode": {
    "name": "ipython",
    "version": 3
   },
   "file_extension": ".py",
   "mimetype": "text/x-python",
   "name": "python",
   "nbconvert_exporter": "python",
   "pygments_lexer": "ipython3",
   "version": "3.12.4"
  }
 },
 "nbformat": 4,
 "nbformat_minor": 2
}
