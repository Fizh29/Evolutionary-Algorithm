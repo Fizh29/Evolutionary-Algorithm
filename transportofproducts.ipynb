{
 "cells": [
  {
   "cell_type": "markdown",
   "metadata": {},
   "source": [
    "INITIATING PRODUCT LIST"
   ]
  },
  {
   "cell_type": "code",
   "execution_count": 51,
   "metadata": {},
   "outputs": [],
   "source": [
    "class Product():\n",
    "  def __init__(self, name, space, price):\n",
    "    self.name = name\n",
    "    self.space = space\n",
    "    self.price = price"
   ]
  },
  {
   "cell_type": "code",
   "execution_count": 52,
   "metadata": {},
   "outputs": [],
   "source": [
    "products_list = []\n",
    "products_list.append(Product('Refrigerator A', 0.751, 999.90))\n",
    "products_list.append(Product('Cell phone', 0.00000899, 2199.12))\n",
    "products_list.append(Product('TV 55', 0.400, 4346.99))\n",
    "products_list.append(Product(\"TV 50' \", 0.290, 3999.90))\n",
    "products_list.append(Product(\"TV 42' \", 0.200, 2999.00))\n",
    "products_list.append(Product(\"Notebook A\", 0.00350, 2499.90))\n",
    "products_list.append(Product(\"Ventilator\", 0.496, 199.90))\n",
    "products_list.append(Product(\"Microwave A\", 0.0424, 308.66))\n",
    "products_list.append(Product(\"Microwave B\", 0.0544, 429.90))\n",
    "products_list.append(Product(\"Microwave C\", 0.0319, 299.29))\n",
    "products_list.append(Product(\"Refrigerator B\", 0.635, 849.00))\n",
    "products_list.append(Product(\"Refrigerator C\", 0.870, 1199.89))\n",
    "products_list.append(Product(\"Notebook B\", 0.498, 1999.90))\n",
    "products_list.append(Product(\"Notebook C\", 0.527, 3999.00)) "
   ]
  },
  {
   "cell_type": "code",
   "execution_count": 53,
   "metadata": {},
   "outputs": [
    {
     "name": "stdout",
     "output_type": "stream",
     "text": [
      "Refrigerator A  -  999.9  -  0.751\n",
      "Cell phone  -  2199.12  -  8.99e-06\n",
      "TV 55  -  4346.99  -  0.4\n",
      "TV 50'   -  3999.9  -  0.29\n",
      "TV 42'   -  2999.0  -  0.2\n",
      "Notebook A  -  2499.9  -  0.0035\n",
      "Ventilator  -  199.9  -  0.496\n",
      "Microwave A  -  308.66  -  0.0424\n",
      "Microwave B  -  429.9  -  0.0544\n",
      "Microwave C  -  299.29  -  0.0319\n",
      "Refrigerator B  -  849.0  -  0.635\n",
      "Refrigerator C  -  1199.89  -  0.87\n",
      "Notebook B  -  1999.9  -  0.498\n",
      "Notebook C  -  3999.0  -  0.527\n"
     ]
    }
   ],
   "source": [
    "for product in products_list:\n",
    "  print(product.name, ' - ', product.price, ' - ', product.space)"
   ]
  },
  {
   "cell_type": "code",
   "execution_count": 54,
   "metadata": {},
   "outputs": [],
   "source": [
    "from random import random"
   ]
  },
  {
   "cell_type": "markdown",
   "metadata": {},
   "source": [
    "INDIVIDUAL CLASS"
   ]
  },
  {
   "cell_type": "code",
   "execution_count": 55,
   "metadata": {},
   "outputs": [],
   "source": [
    "class Individual():\n",
    "  def __init__(self, spaces, prices, space_limit, generation=0):\n",
    "    self.spaces = spaces\n",
    "    self.prices = prices\n",
    "    self.space_limit = space_limit\n",
    "    self.score_evaluation = 0\n",
    "    self.used_spaces = 0\n",
    "    self.generation = generation\n",
    "    self.chromosome = []\n",
    "\n",
    "    for i in range(len(spaces)):\n",
    "      if random() < 0.5:\n",
    "        self.chromosome.append('0')\n",
    "      else:\n",
    "        self.chromosome.append('1')\n",
    "\n",
    "  def fitness(self): \n",
    "    score = 0\n",
    "    sum_spaces = 0 \n",
    "    for i in range(len(self.chromosome)):\n",
    "      if self.chromosome[i] == '1':\n",
    "        score += self.prices[i]\n",
    "        sum_spaces += self.spaces[i]\n",
    "      if sum_spaces > self.space_limit:\n",
    "        score = 1\n",
    "      self.score_evaluation = score\n",
    "      self.used_spaces = sum_spaces\n",
    "\n",
    "  def crossover(self, other_individual):\n",
    "    cutoff =  round(random() * len(self.chromosome))\n",
    "    print(cutoff)\n",
    "    child1= other_individual.chromosome[0:cutoff] + self.chromosome[cutoff::]\n",
    "    child2= self.chromosome[0:cutoff] + other_individual.chromosome[cutoff::]\n",
    "    print(child1)\n",
    "    print(child2)\n",
    "    children = [Individual(self.spaces, self.prices, self.space_limit, self.generation + 1), \n",
    "                Individual(self.spaces, self.prices, self.space_limit, self.generation + 1)\n",
    "                ]\n",
    "    children[0].chromosome = child1\n",
    "    children[1].chromosome = child2\n",
    "    return children \n",
    "  \n",
    "  def mutation(self, rate):\n",
    "    print('Before ', self.chromosome)\n",
    "    for i in range(len(self.chromosome)):\n",
    "      if random() < rate:\n",
    "        if self.chromosome[i] == '1':\n",
    "          self.chromosome[i] = '0'\n",
    "        else:\n",
    "          self.chromosome[1] ='1'\n",
    "    print('after ', self.chromosome)\n",
    "    return self\n",
    "\n",
    "        \n",
    "\n",
    "\n",
    "    "
   ]
  },
  {
   "cell_type": "markdown",
   "metadata": {},
   "source": [
    "GENETICS ALGORITHM CLASS"
   ]
  },
  {
   "cell_type": "code",
   "execution_count": 56,
   "metadata": {},
   "outputs": [],
   "source": [
    "class GeneticAlgorithm():\n",
    "    def __init__(self, population_size):\n",
    "        self.population_size = population_size\n",
    "        self.population = []\n",
    "        self.generation = 0 \n",
    "        self.best_solution = None\n",
    "        self.list_of_solutions = []\n",
    "    def initialize_population(self, spaces, prices, space_limit):\n",
    "        for i in range(self.population_size):\n",
    "            self.population.append(Individual(spaces, prices, space_limit))\n",
    "        self.best_solution = self.population[0]\n",
    "    def order_population(self):\n",
    "        self.population  = sorted(self.population, keys=lambda population: population.score_evaluation, reverse=True)"
   ]
  },
  {
   "cell_type": "code",
   "execution_count": 57,
   "metadata": {},
   "outputs": [],
   "source": [
    "spaces = []\n",
    "prices = []\n",
    "names = []\n",
    "for product in products_list:\n",
    "  spaces.append(product.space)\n",
    "  prices.append(product.price)\n",
    "  names.append(product.name)\n",
    "limit = 3"
   ]
  },
  {
   "cell_type": "code",
   "execution_count": 58,
   "metadata": {},
   "outputs": [
    {
     "name": "stdout",
     "output_type": "stream",
     "text": [
      "[0.751, 8.99e-06, 0.4, 0.29, 0.2, 0.0035, 0.496, 0.0424, 0.0544, 0.0319, 0.635, 0.87, 0.498, 0.527]\n",
      "[999.9, 2199.12, 4346.99, 3999.9, 2999.0, 2499.9, 199.9, 308.66, 429.9, 299.29, 849.0, 1199.89, 1999.9, 3999.0]\n",
      "['Refrigerator A', 'Cell phone', 'TV 55', \"TV 50' \", \"TV 42' \", 'Notebook A', 'Ventilator', 'Microwave A', 'Microwave B', 'Microwave C', 'Refrigerator B', 'Refrigerator C', 'Notebook B', 'Notebook C']\n"
     ]
    }
   ],
   "source": [
    "print(spaces)\n",
    "print(prices)\n",
    "print(names)"
   ]
  },
  {
   "cell_type": "markdown",
   "metadata": {},
   "source": [
    "TESTING CODE"
   ]
  },
  {
   "cell_type": "code",
   "execution_count": 59,
   "metadata": {},
   "outputs": [
    {
     "name": "stdout",
     "output_type": "stream",
     "text": [
      "Name : Refrigerator A\n",
      "Name : Cell phone\n",
      "Name : TV 50' \n",
      "Name : Notebook A\n",
      "Name : Notebook C\n",
      "Score = 13697.82\n",
      "Used Spaces =  1.5715089899999999\n",
      "Chromosome =   ['1', '1', '0', '1', '0', '1', '0', '0', '0', '0', '0', '0', '0', '1']\n"
     ]
    }
   ],
   "source": [
    "individual1 = Individual(spaces, prices, limit)\n",
    "#print('Spaces: ', individual1.spaces)\n",
    "#print('Prices: ', individual1.prices)\n",
    "#print('Chromosome: ', individual1.chromosome)\n",
    "for i in range(len(products_list)):\n",
    "    if individual1.chromosome[i] == '1':\n",
    "        print('Name :', products_list[i].name) \n",
    "individual1.fitness()\n",
    "print('Score =', individual1.score_evaluation)\n",
    "print('Used Spaces = ', individual1.used_spaces)\n",
    "print('Chromosome =  ', individual1.chromosome)"
   ]
  },
  {
   "cell_type": "code",
   "execution_count": 60,
   "metadata": {},
   "outputs": [
    {
     "name": "stdout",
     "output_type": "stream",
     "text": [
      "Name : Cell phone\n",
      "Name : TV 55\n",
      "Name : TV 50' \n",
      "Name : TV 42' \n",
      "Name : Microwave C\n",
      "Name : Refrigerator B\n",
      "Name : Refrigerator C\n",
      "Name : Notebook C\n",
      "Score = 19892.190000000002\n",
      "Used Spaces =  2.95390899\n",
      "Chromosome =   ['0', '1', '1', '1', '1', '0', '0', '0', '0', '1', '1', '1', '0', '1']\n"
     ]
    }
   ],
   "source": [
    "individual2 = Individual(spaces, prices, limit)\n",
    "#print('Spaces: ', individual1.spaces)\n",
    "#print('Prices: ', individual1.prices)\n",
    "#print('Chromosome: ', individual1.chromosome)\n",
    "for i in range(len(products_list)):\n",
    "    if individual2.chromosome[i] == '1':\n",
    "        print('Name :', products_list[i].name) \n",
    "individual2.fitness()\n",
    "print('Score =', individual2.score_evaluation)\n",
    "print('Used Spaces = ', individual2.used_spaces)\n",
    "print('Chromosome =  ', individual2.chromosome)"
   ]
  },
  {
   "cell_type": "code",
   "execution_count": 61,
   "metadata": {},
   "outputs": [
    {
     "name": "stdout",
     "output_type": "stream",
     "text": [
      "8\n",
      "['0', '1', '1', '1', '1', '0', '0', '0', '0', '0', '0', '0', '0', '1']\n",
      "['1', '1', '0', '1', '0', '1', '0', '0', '0', '1', '1', '1', '0', '1']\n"
     ]
    },
    {
     "data": {
      "text/plain": [
       "17544.010000000002"
      ]
     },
     "execution_count": 61,
     "metadata": {},
     "output_type": "execute_result"
    }
   ],
   "source": [
    "children = individual1.crossover(individual2)\n",
    "children[0].fitness()\n",
    "children[0].score_evaluation\n"
   ]
  },
  {
   "cell_type": "code",
   "execution_count": 62,
   "metadata": {},
   "outputs": [
    {
     "data": {
      "text/plain": [
       "1"
      ]
     },
     "execution_count": 62,
     "metadata": {},
     "output_type": "execute_result"
    }
   ],
   "source": [
    "children[1].fitness()\n",
    "children[1].score_evaluation"
   ]
  },
  {
   "cell_type": "code",
   "execution_count": 63,
   "metadata": {},
   "outputs": [
    {
     "name": "stdout",
     "output_type": "stream",
     "text": [
      "Before  ['1', '1', '0', '1', '0', '1', '0', '0', '0', '0', '0', '0', '0', '1']\n",
      "after  ['1', '1', '0', '1', '0', '1', '0', '0', '0', '0', '0', '0', '0', '1']\n"
     ]
    },
    {
     "data": {
      "text/plain": [
       "<__main__.Individual at 0x19fa7dbfc80>"
      ]
     },
     "execution_count": 63,
     "metadata": {},
     "output_type": "execute_result"
    }
   ],
   "source": [
    "individual1.mutation(0.05)"
   ]
  },
  {
   "cell_type": "code",
   "execution_count": 64,
   "metadata": {},
   "outputs": [],
   "source": [
    "population_size = 20\n",
    "ga = GeneticAlgorithm(population_size)\n",
    "ga.initialize_population(spaces, prices, limit)"
   ]
  },
  {
   "cell_type": "code",
   "execution_count": 65,
   "metadata": {},
   "outputs": [
    {
     "data": {
      "text/plain": [
       "20"
      ]
     },
     "execution_count": 65,
     "metadata": {},
     "output_type": "execute_result"
    }
   ],
   "source": [
    "len(ga.population)"
   ]
  },
  {
   "cell_type": "code",
   "execution_count": 66,
   "metadata": {},
   "outputs": [
    {
     "data": {
      "text/plain": [
       "['0', '0', '0', '0', '1', '1', '0', '0', '0', '1', '1', '0', '1', '0']"
      ]
     },
     "execution_count": 66,
     "metadata": {},
     "output_type": "execute_result"
    }
   ],
   "source": [
    "ga.population[9].chromosome"
   ]
  },
  {
   "cell_type": "code",
   "execution_count": null,
   "metadata": {},
   "outputs": [],
   "source": []
  },
  {
   "cell_type": "code",
   "execution_count": 67,
   "metadata": {},
   "outputs": [
    {
     "data": {
      "text/plain": [
       "['1', '1', '0', '0', '1', '1', '1', '0', '1', '0', '0', '0', '1', '0']"
      ]
     },
     "execution_count": 67,
     "metadata": {},
     "output_type": "execute_result"
    }
   ],
   "source": [
    "ga.population[1].chromosome"
   ]
  },
  {
   "cell_type": "code",
   "execution_count": 68,
   "metadata": {},
   "outputs": [
    {
     "data": {
      "text/plain": [
       "['1', '0', '0', '1', '1', '0', '1', '0', '1', '0', '0', '0', '1', '1']"
      ]
     },
     "execution_count": 68,
     "metadata": {},
     "output_type": "execute_result"
    }
   ],
   "source": [
    "ga.population[0].chromosome"
   ]
  },
  {
   "cell_type": "code",
   "execution_count": 69,
   "metadata": {},
   "outputs": [
    {
     "data": {
      "text/plain": [
       "['1', '1', '1', '0', '0', '0', '1', '0', '0', '1', '1', '1', '1', '1']"
      ]
     },
     "execution_count": 69,
     "metadata": {},
     "output_type": "execute_result"
    }
   ],
   "source": [
    "ga.population[19].chromosome"
   ]
  },
  {
   "cell_type": "code",
   "execution_count": 70,
   "metadata": {},
   "outputs": [
    {
     "ename": "NameError",
     "evalue": "name 'true' is not defined",
     "output_type": "error",
     "traceback": [
      "\u001b[1;31m---------------------------------------------------------------------------\u001b[0m",
      "\u001b[1;31mNameError\u001b[0m                                 Traceback (most recent call last)",
      "Cell \u001b[1;32mIn[70], line 3\u001b[0m\n\u001b[0;32m      1\u001b[0m \u001b[38;5;28;01mfor\u001b[39;00m individual \u001b[38;5;129;01min\u001b[39;00m ga\u001b[38;5;241m.\u001b[39mpopulation:\n\u001b[0;32m      2\u001b[0m     individual\u001b[38;5;241m.\u001b[39mfitness()\n\u001b[1;32m----> 3\u001b[0m ga\u001b[38;5;241m.\u001b[39morder_population()\n\u001b[0;32m      4\u001b[0m \u001b[38;5;28;01mfor\u001b[39;00m i \u001b[38;5;129;01min\u001b[39;00m \u001b[38;5;28mrange\u001b[39m(ga\u001b[38;5;241m.\u001b[39mpopulation_size):\n\u001b[0;32m      5\u001b[0m     \u001b[38;5;28mprint\u001b[39m(\u001b[38;5;124m'\u001b[39m\u001b[38;5;124mIndividual: \u001b[39m\u001b[38;5;124m'\u001b[39m, i, \u001b[38;5;124m'\u001b[39m\u001b[38;5;130;01m\\n\u001b[39;00m\u001b[38;5;124mSpaces: \u001b[39m\u001b[38;5;124m'\u001b[39m, ga\u001b[38;5;241m.\u001b[39mpopulation[i]\u001b[38;5;241m.\u001b[39mspaces, \u001b[38;5;124m'\u001b[39m\u001b[38;5;130;01m\\n\u001b[39;00m\u001b[38;5;124mPrices: \u001b[39m\u001b[38;5;124m'\u001b[39m, ga\u001b[38;5;241m.\u001b[39mpopulation[i]\u001b[38;5;241m.\u001b[39mprices, \n\u001b[0;32m      6\u001b[0m           \u001b[38;5;124m'\u001b[39m\u001b[38;5;130;01m\\n\u001b[39;00m\u001b[38;5;124mChromosome\u001b[39m\u001b[38;5;124m'\u001b[39m, ga\u001b[38;5;241m.\u001b[39mpopulation[i]\u001b[38;5;241m.\u001b[39mchromosome, \u001b[38;5;124m'\u001b[39m\u001b[38;5;130;01m\\n\u001b[39;00m\u001b[38;5;124mScore:\u001b[39m\u001b[38;5;124m'\u001b[39m, ga\u001b[38;5;241m.\u001b[39mpopulation[i]\u001b[38;5;241m.\u001b[39mscore_evaluation, \u001b[38;5;124m'\u001b[39m\u001b[38;5;130;01m\\n\u001b[39;00m\u001b[38;5;124m'\u001b[39m)\n",
      "Cell \u001b[1;32mIn[56], line 13\u001b[0m, in \u001b[0;36mGeneticAlgorithm.order_population\u001b[1;34m(self)\u001b[0m\n\u001b[0;32m     12\u001b[0m \u001b[38;5;28;01mdef\u001b[39;00m \u001b[38;5;21morder_population\u001b[39m(\u001b[38;5;28mself\u001b[39m):\n\u001b[1;32m---> 13\u001b[0m     \u001b[38;5;28mself\u001b[39m\u001b[38;5;241m.\u001b[39mpopulation  \u001b[38;5;241m=\u001b[39m \u001b[38;5;28msorted\u001b[39m(\u001b[38;5;28mself\u001b[39m\u001b[38;5;241m.\u001b[39mpopulation, keys\u001b[38;5;241m=\u001b[39m\u001b[38;5;28;01mlambda\u001b[39;00m population: population\u001b[38;5;241m.\u001b[39mscore_evaluation, reverse\u001b[38;5;241m=\u001b[39mtrue)\n",
      "\u001b[1;31mNameError\u001b[0m: name 'true' is not defined"
     ]
    }
   ],
   "source": [
    "for individual in ga.population:\n",
    "    individual.fitness()\n",
    "ga.order_population()\n",
    "for i in range(ga.population_size):\n",
    "    print('Individual: ', i, '\\nSpaces: ', ga.population[i].spaces, '\\nPrices: ', ga.population[i].prices, \n",
    "          '\\nChromosome', ga.population[i].chromosome, '\\nScore:', ga.population[i].score_evaluation, '\\n')"
   ]
  }
 ],
 "metadata": {
  "kernelspec": {
   "display_name": "base",
   "language": "python",
   "name": "python3"
  },
  "language_info": {
   "codemirror_mode": {
    "name": "ipython",
    "version": 3
   },
   "file_extension": ".py",
   "mimetype": "text/x-python",
   "name": "python",
   "nbconvert_exporter": "python",
   "pygments_lexer": "ipython3",
   "version": "3.12.4"
  }
 },
 "nbformat": 4,
 "nbformat_minor": 2
}
